{
 "cells": [
  {
   "cell_type": "markdown",
   "id": "6140aac2",
   "metadata": {},
   "source": [
    "# **EDA_Inicial**\n",
    "\n",
    "___ \n",
    "- Oscar Josue Rocha Hernandez\n",
    "- Rafael Takata Garcia\n",
    "- Esteban Gomez Valerio"
   ]
  },
  {
   "cell_type": "markdown",
   "id": "cdf748bd",
   "metadata": {},
   "source": [
    "### *1. Introducción*\n",
    "\n",
    "El análisis que se presenta se ubica en la industria de **petróleo y gas** de Estados Unidos, un sector crucial para la economía global y la seguridad energética. \n",
    "\n",
    "El problema que abordaremos es la **evaluación de la producción de petróleo y gas** a lo largo del tiempo y por diferentes estados. Comprender las tendencias de producción es vital para la toma de decisiones estratégicas, la planificación de inversiones y la formulación de políticas energéticas a nivel nacional e internacional. El análisis de estos datos permite identificar patrones de crecimiento o declive, así como las contribuciones clave.\n",
    "\n",
    "El alcance de esta **primera entrega** se centrará en la exploración inicial del conjunto de datos. No se incluirán análisis predictivos ni modelos complejos, sino un estudio descriptivo para entender la estructura de los datos, identificar tendencias y visualizar las principales métricas de producción por estado. \n",
    "\n",
    "Para este propósito, se utilizará el dataset de **producción de petróleo y gas de Estados Unidos**, que contiene registros de la producción mensual por estado y tipo de hidrocarburo."
   ]
  },
  {
   "cell_type": "code",
   "execution_count": 1,
   "id": "43a87f78",
   "metadata": {},
   "outputs": [],
   "source": [
    "import pandas as pd"
   ]
  },
  {
   "cell_type": "code",
   "execution_count": null,
   "id": "1027e8ce",
   "metadata": {},
   "outputs": [],
   "source": []
  }
 ],
 "metadata": {
  "kernelspec": {
   "display_name": "data-science-final-project",
   "language": "python",
   "name": "python3"
  },
  "language_info": {
   "codemirror_mode": {
    "name": "ipython",
    "version": 3
   },
   "file_extension": ".py",
   "mimetype": "text/x-python",
   "name": "python",
   "nbconvert_exporter": "python",
   "pygments_lexer": "ipython3",
   "version": "3.13.2"
  }
 },
 "nbformat": 4,
 "nbformat_minor": 5
}
