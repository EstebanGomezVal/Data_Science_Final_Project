{
 "cells": [
  {
   "cell_type": "markdown",
   "id": "108381ef",
   "metadata": {},
   "source": [
    "# Informe inicial\n",
    "\n",
    "___\n",
    "- Oscar Josue Rocha Hernandez\n",
    "- Rafael Takata Garcia\n",
    "- Esteban Gomez Valerio"
   ]
  },
  {
   "cell_type": "markdown",
   "id": "bdb5efde",
   "metadata": {},
   "source": [
    "### 1) Introducción\n",
    "El análisis que se presenta se ubica en el ámbito de los estudios socioeconómicos y laborales en Estados Unidos, un tema de gran relevancia para comprender la distribución de ingresos y las dinámicas del mercado de trabajo. Este tipo de análisis no solo tiene implicaciones académicas, sino también aplicaciones prácticas en el diseño de políticas públicas, estrategias empresariales y estudios de equidad social.\n",
    "\n",
    "El problema que abordaremos es la evaluación de los factores que influyen en el nivel de ingresos de las personas. En particular, se busca identificar cómo variables como la edad, la educación, el estado civil, la ocupación, el sexo y la raza están asociadas con la probabilidad de que un individuo perciba ingresos superiores a los 50 mil dólares anuales. Entender estas relaciones es esencial para detectar patrones de desigualdad y áreas de oportunidad en el desarrollo económico.\n",
    "\n",
    "El alcance de esta primera entrega se centrará en la exploración inicial del conjunto de datos. No se incluirán modelos predictivos avanzados, sino un estudio descriptivo que permita conocer la estructura del dataset, explorar la distribución de las variables y visualizar tendencias generales entre las características sociodemográficas y el nivel de ingresos.\n",
    "\n",
    "Para este propósito, se utilizará el dataset de Adult Census Income, que contiene información de miles de individuos en Estados Unidos. Cada registro incluye variables como educación, ocupación, horas trabajadas, país de origen y otros atributos, junto con la etiqueta de ingresos (<=50K o >50K). Este dataset ha sido ampliamente utilizado como benchmark en problemas de clasificación en aprendizaje automático, lo que lo convierte en un recurso ideal para este análisis exploratorio.\n",
    "___"
   ]
  },
  {
   "cell_type": "markdown",
   "id": "74205e68",
   "metadata": {},
   "source": [
    "### 2) Antecedentes\n",
    "\n",
    "Este dataset fue creado y popularizado a partir de trabajos en aprendizaje automático que buscaban clasificar ingresos, a menudo sirviendo como un punto de referencia para nuevos algoritmos.\n",
    "\n",
    "`Kohavi, R. (1996). Scaling up the accuracy of naive-Bayes classifiers: A decision-tree approach. In E. Simoudis, J. Han, & U. Fayyad (Eds.), Proceedings of the Second International Conference on Knowledge Discovery and Data Mining (KDD-96) (pp. 202–207). AAAI Press.`\n",
    "\n",
    "- Este es uno de los primeros trabajos que utiliza el dataset para probar métodos de clasificación (Naive Bayes y árboles de decisión), estableciendo un benchmark inicial en términos de precisión.\n",
    "\n",
    "`Dua, D., & Graff, C. (2017). UCI Machine Learning Repository. Irvine, CA: University of California, School of Information and Computer Science. Retrieved from http://archive.ics.uci.edu/ml`\n",
    "\n",
    "- Aunque este es el propio repositorio de los datos, estudiantes generalmente se centran en el preprocesamiento de datos y la ingeniería de características con el fin de impactar en el rendimiento predictivo.\n",
    "\n",
    "\n",
    "Mediante estos trabajos previos, se confirma que las variables como la educación, ocupación y la edad, son altamente predictivas del nivel de ingresos. Esto valida su enfoque inicial de análisis exploratorio para comprender las relaciones de estas variables con la variable a predecir (ingresos).\n",
    "\n",
    "La mayoría de los benchmarks en machine learning se enfocan en medir la precisión predictiva de los modelos, pero dejan en segundo plano la explicación de los patrones entre variables. Nuestro proyecto busca cubrir esa brecha, priorizando no solo la exactitud de las predicciones, sino también la comprensión de las relaciones e interacciones entre atributos, con el fin de aportar un valor interpretativo adicional y generar conocimiento útil a futuro.\n",
    "___"
   ]
  },
  {
   "cell_type": "markdown",
   "id": "e9d2b761",
   "metadata": {},
   "source": [
    "\n",
    "### 3) Objetivos\n",
    "*\"Visualizar las relaciones entre atributos de un grupo de individuos y su nivel de ingresos para identificar patrones clave.\"*\n",
    "___\n",
    "\n",
    "**Objetivos especificos**\n",
    "\n",
    "- Inspeccionar la estructura del conjunto de datos (tipos de variables, número de registros, cardinalidad).\n",
    "\n",
    "- Generar estadísticas descriptivas clave para todas las variables numéricas y visualizar la distribución de frecuencias de las variables categóricas.\n",
    "\n",
    "- Visualizar las tendencias entre la variable objetivo (Ingresos) y las variables sociodemográficas (Edad, Educación, Sexo, Raza, Ocupación y Horas Trabajadas).\n",
    "\n",
    "- Documentar las reglas de limpieza y transformación de datos necesarias (eliminación de valores faltantes, agrupación de categorías raras o estandarización de variables numéricas).\n",
    "___\n",
    "\n",
    "**Criterios de exito**\n",
    "\n",
    "\n",
    "Nuestro proyecto busca una documentación detallada de las variables, describiendo tanto sus características individuales como su relación con la variable predictora. \n",
    "\n",
    "Durante el proceso de modelado, el objetivo principal es alcanzar una precisión (accuracy) superior al 80% en la predicción.\n",
    "___"
   ]
  },
  {
   "cell_type": "markdown",
   "id": "3326f5a7",
   "metadata": {},
   "source": [
    "### 4) Planteamiento del problema\n",
    "\n",
    "El problema central que se busca resolver consiste en predecir con un nivel de precisión elevado el comportamiento de la variable objetivo a partir de un conjunto de características previamente registradas.\n",
    "\n",
    "Las variables clave se dividen en dos grupos: las variables predictoras (entrada), que contienen información sociodemográfica, económica y de características individuales de una persona, y la variable objetivo (salida), que representa el valor que se desea predecir. Esta última es binaria, con dos clases: 0 (ingreso ≤$50K) y 1 (ingreso >$50K). Como supuesto inicial, se considera que los datos poseen una calidad mínima suficiente para el entrenamiento de modelos, sin embargo, se busca aplicar un proceso de limpieza, transformación y validación para garantizar un mejor uso de estas.\n",
    "\n",
    "En este trabajo no solo se busca predecir quién gana más de $50K, sino también entender por qué. Este enfoque permite a los líderes de negocio identificar qué factores influyen en que una persona se convierta en un posible inversor más rentable (como la educación o la ocupación), haciendo que los hallazgos sean directamente aplicables al entendimiento del dominio socioeconómico.\n",
    "\n",
    "No obstante, existen riesgos que se deben tomar en cuenta, como sesgos en los datos que afecten la imparcialidad, data leakage, valores faltantes, ruido o desbalance de clases. Además, enfocarse solo en la accuracy puede ocultar problemas de generalización o un desempeño desigual en distintos subgrupos.\n"
   ]
  }
 ],
 "metadata": {
  "language_info": {
   "name": "python"
  }
 },
 "nbformat": 4,
 "nbformat_minor": 5
}
